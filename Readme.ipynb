{
 "cells": [
  {
   "cell_type": "markdown",
   "metadata": {},
   "source": [
    "# Esta funcion resive una lista elimina los datos duplicados y devuelve una nueva lista\n"
   ]
  },
  {
   "cell_type": "code",
   "execution_count": null,
   "metadata": {},
   "outputs": [],
   "source": [
    "def eliminar_duplicados(lista):\n",
    "    nueva_lista = set(lista)\n",
    "    return nueva_lista\n",
    "\n"
   ]
  },
  {
   "cell_type": "code",
   "execution_count": null,
   "metadata": {},
   "outputs": [],
   "source": [
    "print(eliminar_duplicados([1, 2, 3, 4, 4, 5, 6, 6, 7]))"
   ]
  },
  {
   "cell_type": "markdown",
   "metadata": {},
   "source": [
    "## Es siguiente ejercicio se trata de hacer calculos estadisticos sobre una lista de datos "
   ]
  },
  {
   "cell_type": "markdown",
   "metadata": {},
   "source": [
    "## Importamos pandas y matplotlib, para realizar los calculos y luego ver las graficas"
   ]
  },
  {
   "cell_type": "code",
   "execution_count": null,
   "metadata": {},
   "outputs": [],
   "source": [
    "import pandas as pd\n",
    "import matplotlib.pyplot as plt"
   ]
  },
  {
   "cell_type": "markdown",
   "metadata": {},
   "source": [
    "\n",
    "## asignamos a una variable la lista de datos"
   ]
  },
  {
   "cell_type": "code",
   "execution_count": null,
   "metadata": {},
   "outputs": [],
   "source": [
    "calificaciones = [\n",
    "{\"nombre\": \"Juan\", \"matematicas\": 85, \"ciencias\": 90,\n",
    "\"historia\": 75},\n",
    "{\"nombre\": \"María\", \"matematicas\": 70, \"ciencias\": 80,\n",
    "\"historia\": 85},\n",
    "{\"nombre\": \"Pedro\", \"matematicas\": 95, \"ciencias\": 75,\n",
    "\"historia\": 90},\n",
    "{\"nombre\": \"Ana\", \"matematicas\": 80, \"ciencias\": 85, \"historia\":\n",
    "80},\n",
    "{\"nombre\": \"Luis\", \"matematicas\": 75, \"ciencias\": 70,\n",
    "\"historia\": 95},\n",
    "{\"nombre\": \"Sofía\", \"matematicas\": 90, \"ciencias\": 85,\n",
    "\"historia\": 75},\n",
    "{\"nombre\": \"Carlos\", \"matematicas\": 85, \"ciencias\": 90,\n",
    "\"historia\": 80},\n",
    "{\"nombre\": \"Elena\", \"matematicas\": 70, \"ciencias\": 75,\n",
    "\"historia\": 85},\n",
    "{\"nombre\": \"Javier\", \"matematicas\": 80, \"ciencias\": 85,\n",
    "\"historia\": 90},\n",
    "{\"nombre\": \"Laura\", \"matematicas\": 75, \"ciencias\": 70,\n",
    "\"historia\": 95},\n",
    "{\"nombre\": \"Diego\", \"matematicas\": 90, \"ciencias\": 85,\n",
    "\"historia\": 75},\n",
    "{\"nombre\": \"Paula\", \"matematicas\": 85, \"ciencias\": 90,\n",
    "\"historia\": 80},\n",
    "{\"nombre\": \"Carmen\", \"matematicas\": 70, \"ciencias\": 75,\n",
    "\"historia\": 85}\n",
    "]"
   ]
  },
  {
   "cell_type": "markdown",
   "metadata": {},
   "source": [
    "## declaramos algunas variables para luego usarla en los calculos"
   ]
  },
  {
   "cell_type": "code",
   "execution_count": null,
   "metadata": {},
   "outputs": [],
   "source": [
    "alumno_mat = {}\n",
    "alumno_ciencias = {}\n",
    "alumno_historia = {}\n",
    "mayor_mat = -999999999\n",
    "mayor_ciencias = -999999999\n",
    "mayor_historia = -999999999\n",
    "\n",
    "alumnos_apro_mat = 0\n",
    "alumnos_apro_ciencias = 0\n",
    "alumnos_apro_historia = 0"
   ]
  },
  {
   "cell_type": "markdown",
   "metadata": {},
   "source": [
    "## Ejecutamos una bucle for para recorrer los datos y hacer calculos\n"
   ]
  },
  {
   "cell_type": "code",
   "execution_count": null,
   "metadata": {},
   "outputs": [],
   "source": [
    "for alumon in calificaciones:\n",
    "    if(alumon[\"matematicas\"]>mayor_mat):\n",
    "        mayor_mat = alumon[\"matematicas\"]\n",
    "        alumno_mat = alumon\n",
    "    if(alumon[\"ciencias\"]>mayor_ciencias):\n",
    "        mayor_ciencias = alumon[\"ciencias\"]\n",
    "        alumno_ciencias = alumon\n",
    "    if(alumon[\"historia\"]>mayor_historia):\n",
    "        mayor_historia = alumon[\"historia\"]\n",
    "        alumno_historia= alumon    \n",
    "\n",
    "    if(alumon[\"matematicas\"]>=60):\n",
    "        alumnos_apro_mat+=1\n",
    "    if(alumon[\"ciencias\"]>=60):\n",
    "        alumnos_apro_ciencias+=1\n",
    "    if(alumon[\"historia\"]>=60):\n",
    "       alumnos_apro_historia+=1\n"
   ]
  },
  {
   "cell_type": "markdown",
   "metadata": {},
   "source": [
    "## Creamos un Data Frame de pandas \n"
   ]
  },
  {
   "cell_type": "code",
   "execution_count": null,
   "metadata": {},
   "outputs": [],
   "source": [
    "data_calificaciones = pd.DataFrame(calificaciones)"
   ]
  },
  {
   "cell_type": "markdown",
   "metadata": {},
   "source": [
    "## Hacemos los calculos de promedios de calificaciones"
   ]
  },
  {
   "cell_type": "code",
   "execution_count": null,
   "metadata": {},
   "outputs": [],
   "source": [
    "promedio_mat= (data_calificaciones['matematicas'].sum())/len(data_calificaciones[\"matematicas\"])\n",
    "promedio_ciencias= (data_calificaciones['ciencias'].sum())/len(data_calificaciones[\"ciencias\"])\n",
    "promedio_historia= (data_calificaciones['historia'].sum())/len(data_calificaciones[\"historia\"])"
   ]
  },
  {
   "cell_type": "markdown",
   "metadata": {},
   "source": [
    "## Mostramos los resultados"
   ]
  },
  {
   "cell_type": "code",
   "execution_count": null,
   "metadata": {},
   "outputs": [],
   "source": [
    "print('El promedio de notas de Matematica es:',promedio_mat)\n",
    "print('El promedio de notas de Ciencias es:',promedio_ciencias)\n",
    "print('El promedio de notas de Historia es:',promedio_historia)"
   ]
  },
  {
   "cell_type": "markdown",
   "metadata": {},
   "source": [
    "## Alumnos con notas mas altas en cada materia"
   ]
  },
  {
   "cell_type": "code",
   "execution_count": null,
   "metadata": {},
   "outputs": [],
   "source": [
    "\n",
    "print(f'Nota mas alta de Matematicas, alumno {alumno_mat['nombre']}, con {alumno_mat['matematicas']} ')\n",
    "\n",
    "print(f'Nota mas alta de Ciencias, alumno {alumno_ciencias['nombre']}, con {alumno_ciencias['ciencias']} ')\n",
    "\n",
    "print(f'Nota mas alta de Historia, alumno {alumno_historia['nombre']}, con {alumno_historia['historia']} ')"
   ]
  },
  {
   "cell_type": "markdown",
   "metadata": {},
   "source": [
    "\n",
    "## % de Aprobados en cada asignatura"
   ]
  },
  {
   "cell_type": "code",
   "execution_count": null,
   "metadata": {},
   "outputs": [],
   "source": [
    "cantidad_alumnos = len(calificaciones)\n",
    "\n",
    "promedio_alumnos_mat = (alumnos_apro_mat*100)/cantidad_alumnos\n",
    "print(f'El {promedio_alumnos_mat}% de los alumnos aprobo la materia de Matematicas')\n",
    "\n",
    "promedio_alumnos_ciencias = (alumnos_apro_ciencias*100)/cantidad_alumnos\n",
    "print(f'El {promedio_alumnos_ciencias}% de los alumnos aprobo la materia de ciencias')\n",
    "\n",
    "promedio_alumnos_historia = (alumnos_apro_historia*100)/cantidad_alumnos\n",
    "print(f'El {promedio_alumnos_historia}% de los alumnos aprobo la materia de historia')\n"
   ]
  },
  {
   "cell_type": "markdown",
   "metadata": {},
   "source": [
    "\n",
    "## Data_Frame frecuencias"
   ]
  },
  {
   "cell_type": "code",
   "execution_count": null,
   "metadata": {},
   "outputs": [],
   "source": [
    "data_alumnos=[]"
   ]
  },
  {
   "cell_type": "markdown",
   "metadata": {},
   "source": [
    "## Creo una lista de diccionarios  para armar el dataFrame"
   ]
  },
  {
   "cell_type": "code",
   "execution_count": null,
   "metadata": {},
   "outputs": [],
   "source": [
    "for alumno in calificaciones:\n",
    "    promedio = (alumno['matematicas']+alumno['ciencias']+alumno['historia']) /3\n",
    "    data_alumnos.append(\n",
    "        {\n",
    "            'nombre':alumno['nombre'],\n",
    "            'promedio': promedio\n",
    "        }\n",
    "    )\n",
    "    "
   ]
  },
  {
   "cell_type": "markdown",
   "metadata": {},
   "source": [
    "## genero el DF con pandas"
   ]
  },
  {
   "cell_type": "code",
   "execution_count": null,
   "metadata": {},
   "outputs": [],
   "source": [
    "df_alumnos = pd.DataFrame(data_alumnos)"
   ]
  },
  {
   "cell_type": "markdown",
   "metadata": {},
   "source": [
    "## Muestro el DF resultante"
   ]
  },
  {
   "cell_type": "code",
   "execution_count": null,
   "metadata": {},
   "outputs": [],
   "source": [
    "print(df_alumnos)"
   ]
  },
  {
   "cell_type": "markdown",
   "metadata": {},
   "source": [
    "## Muestro el grafico del DataFrame usando matplotlib"
   ]
  },
  {
   "cell_type": "code",
   "execution_count": null,
   "metadata": {},
   "outputs": [],
   "source": [
    "plt.plot(df_alumnos['nombre'], df_alumnos['promedio'])\n",
    "plt.xlabel('nombre')\n",
    "plt.ylabel('promedio')\n",
    "plt.title('Promedio de alumnos')\n",
    "plt.grid()\n",
    "plt.show()"
   ]
  },
  {
   "cell_type": "markdown",
   "metadata": {},
   "source": []
  }
 ],
 "metadata": {
  "kernelspec": {
   "display_name": "envs",
   "language": "python",
   "name": "python3"
  },
  "language_info": {
   "codemirror_mode": {
    "name": "ipython",
    "version": 3
   },
   "file_extension": ".py",
   "mimetype": "text/x-python",
   "name": "python",
   "nbconvert_exporter": "python",
   "pygments_lexer": "ipython3",
   "version": "3.12.2"
  }
 },
 "nbformat": 4,
 "nbformat_minor": 2
}
